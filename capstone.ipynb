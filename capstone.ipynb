{
 "cells": [
  {
   "cell_type": "markdown",
   "id": "2288c6ae",
   "metadata": {},
   "source": [
    "# Pytorch Capstone Project - Image Classification for detection of Diabetic Retinopathy\n",
    "This project involves building and training a Convolutional Neural Network model using Pytorch to detect Diabetic retinopathy based on images of retinas. The dataset used is from Indian Diabetic Retinopathy Image Dataset (IDRiD), which consists of 516 fundus images. This dataset is split into 413 training images and 103 testing images.\n",
    "\n",
    "The goal is to train the model to detect whether the image is indicative of diabetic retinopathy. Hence, this is a binary classification model, so it will make use of Pytorch's Binary Cross Entropy loss function to calculate weights. It also uses the Adam optimizer, with a learning rate of 0.0002."
   ]
  },
  {
   "cell_type": "code",
   "execution_count": 2,
   "id": "31f5d88a-e667-494d-9f10-d4ca023b46e1",
   "metadata": {},
   "outputs": [],
   "source": [
    "import pandas as pd\n",
    "import numpy as np\n",
    "from PIL import Image\n",
    "import torch\n",
    "import torch.nn as nn\n",
    "import torch.nn.functional as F\n",
    "import torch.optim as optim\n",
    "import torchvision.transforms as transforms\n",
    "from torch.utils.data import Dataset, DataLoader\n",
    "from torch.utils.data import random_split"
   ]
  },
  {
   "cell_type": "code",
   "execution_count": 3,
   "id": "e60cd207-7eea-498a-a655-fbac1f536f43",
   "metadata": {},
   "outputs": [
    {
     "name": "stdout",
     "output_type": "stream",
     "text": [
      "Available device: cpu\n"
     ]
    }
   ],
   "source": [
    "device = torch.device(\"cuda\" if torch.cuda.is_available() else \"cpu\") \n",
    "\n",
    "print(f'Available device: {device}')"
   ]
  },
  {
   "cell_type": "code",
   "execution_count": 4,
   "id": "675d4ed3-0389-4216-a2d0-4bf66bbee098",
   "metadata": {},
   "outputs": [],
   "source": [
    "training_csv_path = 'B. Disease Grading/B. Disease Grading/2. Groundtruths/a. IDRiD_Disease Grading_Training Labels.csv'\n",
    "testing_csv_path = 'B. Disease Grading/B. Disease Grading/2. Groundtruths/b. IDRiD_Disease Grading_Testing Labels.csv'\n",
    "root_disease_grading_path = 'B. Disease Grading/B. Disease Grading/'\n",
    "\n",
    "training_images_path = 'B. Disease Grading/B. Disease Grading/1. Original Images/a. Training Set/'\n",
    "testing_images_path = 'B. Disease Grading/B. Disease Grading/1. Original Images/b. Testing Set/'"
   ]
  },
  {
   "cell_type": "code",
   "execution_count": 5,
   "id": "d85dba93-7508-4a70-9661-dbf6b1263725",
   "metadata": {},
   "outputs": [],
   "source": [
    "class RetinalImageDataset(Dataset):\n",
    "    def __init__(self, csv_df, images_path, transform=None, num_samples=None):\n",
    "        \"\"\"\n",
    "        Args:\n",
    "            csv_df (string): Dataframe from the csv file containing the data set\n",
    "            transform (callable, optional): Optional transform to be applied on a sample\n",
    "            num_samples (int, optional): Number of samples to load. If None, loads all samples\n",
    "            images_path (string): Path to image set\n",
    "        \"\"\"\n",
    "        self.csv_file = csv_df\n",
    "        if num_samples is not None:\n",
    "            self.csv_file = self.csv_file.head(num_samples)\n",
    "        self.transform = transform\n",
    "        self.images_path = images_path\n",
    "\n",
    "    def __len__(self):\n",
    "        return len(self.csv_file)\n",
    "\n",
    "    def __getitem__(self, index):\n",
    "        if torch.is_tensor(index):\n",
    "            index = index.tolist()\n",
    "\n",
    "        # Get image path and label\n",
    "        img_path = self.images_path + self.csv_file.iloc[index, 0] + '.jpg'\n",
    "        label = self.csv_file.iloc[index, 1]\n",
    "        #print(f'Path: {img_path}, Label: {label}')\n",
    "\n",
    "        # Load and convert the image\n",
    "        image = Image.open(img_path)\n",
    "        if image.mode != 'RGB':\n",
    "            image = image.convert('RGB')\n",
    "        if self.transform:\n",
    "            image = self.transform(image)\n",
    "\n",
    "        # Convert label to float\n",
    "        label = torch.tensor(label, dtype=torch.float)\n",
    "\n",
    "        return image, label"
   ]
  },
  {
   "cell_type": "code",
   "execution_count": 6,
   "id": "f4278357",
   "metadata": {},
   "outputs": [
    {
     "name": "stdout",
     "output_type": "stream",
     "text": [
      "Training\n",
      "     Image name  Has Retinopathy\n",
      "185  IDRiD_186                1\n",
      "186  IDRiD_187                1\n",
      "187  IDRiD_188                1\n",
      "188  IDRiD_189                1\n",
      "189  IDRiD_190                0\n",
      "190  IDRiD_191                1\n",
      "191  IDRiD_192                1\n",
      "192  IDRiD_193                0\n",
      "193  IDRiD_194                1\n",
      "194  IDRiD_195                0\n",
      "\n",
      "Testing\n",
      "    Image name  Has Retinopathy\n",
      "35  IDRiD_036                1\n",
      "36  IDRiD_037                0\n",
      "37  IDRiD_038                0\n",
      "38  IDRiD_039                0\n",
      "39  IDRiD_040                1\n",
      "40  IDRiD_041                0\n",
      "41  IDRiD_042                1\n",
      "42  IDRiD_043                0\n",
      "43  IDRiD_044                0\n",
      "44  IDRiD_045                0\n"
     ]
    }
   ],
   "source": [
    "# Data Cleaning\n",
    "training_csvfile = pd.read_csv(training_csv_path)\n",
    "unnamed_columns = training_csvfile.columns[training_csvfile.columns.str.contains('Unnamed', case=False)]\n",
    "training_csvfile = training_csvfile.drop(columns=unnamed_columns)\n",
    "\n",
    "drop_columns = ['Retinopathy grade', 'Risk of macular edema ']\n",
    "\n",
    "training_csvfile['Has Retinopathy'] = (training_csvfile['Retinopathy grade'] > 0).astype(int)\n",
    "training_csvfile = training_csvfile.drop(columns=drop_columns)\n",
    "\n",
    "testing_csvfile = pd.read_csv(testing_csv_path)\n",
    "testing_csvfile['Has Retinopathy'] = (testing_csvfile['Retinopathy grade'] > 0).astype(int)\n",
    "testing_csvfile = testing_csvfile.drop(columns=drop_columns)\n",
    "\n",
    "print('Training\\n', training_csvfile[185:195])\n",
    "print('\\nTesting\\n',testing_csvfile[35:45])"
   ]
  },
  {
   "cell_type": "markdown",
   "id": "67110ffa",
   "metadata": {},
   "source": [
    "## Image Pre-processing and Augmentation\n",
    "The raw images will undergo pre-processing to ensure that the images are in a standardized format. This involves resizing them to a standard size, converting to PyTorch tensors, and normalizing the pixel values. All the images are resized to be 256x256.\n",
    "\n",
    "The raw images from the training set will additionally go through various random augmentations to provide variance within the images and allow the model to train with more diverse data. This should help prevent overfitting and improve generalization. The augmentations include randomly flipping the image horizontally and vertically, randomly rotating the image, adjusting various colour parameters like brightness, contrast, saturation, and hue, and finally, randomly changing the perspective of the image."
   ]
  },
  {
   "cell_type": "code",
   "execution_count": 7,
   "id": "f96d0153",
   "metadata": {},
   "outputs": [],
   "source": [
    "# Image Pre-Processing\n",
    "train_transforms = transforms.Compose([\n",
    "    transforms.Resize((256,256)),\n",
    "    transforms.RandomHorizontalFlip(),\n",
    "    transforms.RandomVerticalFlip(),\n",
    "    transforms.RandomRotation(10),\n",
    "    transforms.ColorJitter(brightness=0.2, contrast=0.2, saturation=0.2, hue=0.2),\n",
    "    transforms.RandomPerspective(0.02),\n",
    "    transforms.ToTensor(),\n",
    "    transforms.Normalize(mean=[0.5, 0.5, 0.5], std=[0.5, 0.5, 0.5])   \n",
    "])\n",
    "\n",
    "val_and_testing_transforms = transforms.Compose([\n",
    "    transforms.Resize((256,256)),\n",
    "    transforms.ToTensor(),\n",
    "    transforms.Normalize(mean=[0.5, 0.5, 0.5], std=[0.5, 0.5, 0.5])   \n",
    "])"
   ]
  },
  {
   "cell_type": "markdown",
   "id": "0cb7f5ec",
   "metadata": {},
   "source": [
    "## Splitting dataset into training and validation set\n",
    "The dataset is split into a training set and validation set in order to track the performance of the model. It is split such that 80% of the images are part of the training set, and 20% is a part of the validation set. This makes 331 images to train and 82 for validation.\n",
    "\n",
    "The image augmentations mentioned are done specifically to the training images, not the validation images."
   ]
  },
  {
   "cell_type": "code",
   "execution_count": 8,
   "id": "650327ff",
   "metadata": {},
   "outputs": [
    {
     "name": "stdout",
     "output_type": "stream",
     "text": [
      "[64, 20, 234, 257, 282, 28, 196, 411, 183, 342, 261, 363, 310, 167, 50, 335, 122, 372, 135, 71, 96, 105, 4, 154, 141, 182, 73, 106, 240, 216, 302, 407, 24, 30, 339, 357, 296, 101, 45, 367, 278, 155, 397, 412, 92, 36, 56, 237, 391, 54, 272, 1, 100, 152, 85, 25, 153, 389, 136, 41, 148, 195, 406, 173, 32, 23, 322, 93, 264, 346, 109, 224, 81, 366, 360, 300, 14, 408, 126, 51, 33, 188, 376, 236, 354, 151, 192, 191, 393, 306, 158, 242, 356, 22, 231, 82, 169, 332, 319, 323, 204, 254, 142, 248, 9, 118, 210, 198, 338, 123, 97, 387, 405, 134, 111, 348, 253, 362, 57, 395, 286, 165, 127, 98, 328, 308, 355, 235, 13, 244, 214, 295, 341, 233, 159, 133, 379, 285, 107, 58, 181, 381, 119, 262, 287, 203, 340, 303, 276, 396, 258, 271, 368, 291, 139, 77, 114, 62, 293, 43, 345, 241, 207, 74, 222, 197, 263, 229, 410, 27, 171, 385, 277, 184, 175, 69, 382, 156, 301, 160, 53, 7, 117, 213, 337, 309, 40, 299, 384, 202, 162, 313, 369, 223, 140, 220, 290, 304, 209, 305, 267, 260, 365, 48, 294, 297, 76, 37, 55, 161, 112, 65, 380, 16, 70, 166, 199, 249, 61, 325, 163, 399, 5, 344, 143, 314, 121, 250, 358, 321, 347, 150, 243, 392, 238, 390, 279, 225, 378, 180, 170, 15, 186, 349, 115, 108, 86, 99, 280, 131, 364, 187, 94, 265, 333, 375, 164, 176, 284, 190, 95, 6, 78, 255, 185, 52, 316, 60, 283, 31, 79, 103, 80, 212, 218, 44, 67, 386, 189, 104, 87, 266, 221, 373, 383, 144, 259, 120, 273, 72, 129, 219, 89, 374, 211, 402, 157, 215, 83, 17, 298, 178, 145, 370, 311, 49, 201, 288, 63, 84, 318, 377, 327, 403, 3, 124, 239, 137, 21, 110, 247, 246, 138, 130, 359, 217, 281, 268, 125, 307, 113]\n",
      "[206, 226, 324, 409, 350, 274, 343, 388, 193, 256, 336, 351, 26, 251, 177, 38, 2, 331, 19, 292, 371, 315, 149, 361, 29, 42, 227, 116, 88, 146, 275, 35, 90, 320, 102, 34, 66, 232, 10, 270, 353, 317, 404, 352, 174, 228, 334, 179, 132, 398, 168, 394, 11, 0, 330, 172, 269, 46, 68, 289, 230, 8, 75, 147, 245, 12, 91, 39, 128, 400, 312, 194, 47, 252, 59, 401, 329, 200, 18, 326, 208, 205]\n",
      "Size of training indices list: 331\n",
      "Size of val indices list: 82\n",
      "Common elements: []\n",
      "Loading image from path: B. Disease Grading/B. Disease Grading/1. Original Images/a. Training Set/\n",
      "Size of training set: 331\n",
      "Size of validation set: 82\n"
     ]
    }
   ],
   "source": [
    "# Load dataset\n",
    "retinal_image_dataset = RetinalImageDataset(training_csvfile, training_images_path, transform=train_transforms)\n",
    "train_size = 0.8\n",
    "val_size = 0.2\n",
    "\n",
    "train_dataset, _ = random_split(retinal_image_dataset, [train_size, val_size], generator=torch.Generator().manual_seed(42))\n",
    "\n",
    "retinal_image_dataset2 = RetinalImageDataset(training_csvfile, training_images_path, transform=val_and_testing_transforms)\n",
    "train_size = 0.8\n",
    "val_size = 0.2\n",
    "\n",
    "_, val_dataset = random_split(retinal_image_dataset2, [train_size, val_size], generator=torch.Generator().manual_seed(42))\n",
    "\n",
    "print(train_dataset.indices)\n",
    "print(val_dataset.indices)\n",
    "print(f'Size of training indices list: {len(train_dataset.indices)}')\n",
    "print(f'Size of val indices list: {len(val_dataset.indices)}')\n",
    "print(f'Common elements: {list(set(train_dataset.indices) & set(val_dataset.indices))}')\n",
    "            \n",
    "\n",
    "train_dataloader = DataLoader(train_dataset, batch_size=32, shuffle=True)\n",
    "val_dataloader = DataLoader(val_dataset, batch_size=32, shuffle=False)\n",
    "print(f'Loading image from path: {training_images_path}')\n",
    "print(f'Size of training set: {len(train_dataset)}')\n",
    "print(f'Size of validation set: {len(val_dataset)}')"
   ]
  },
  {
   "cell_type": "markdown",
   "id": "a925fbe7",
   "metadata": {},
   "source": [
    "## Convolutional Neural Network architecture\n",
    "This neural network consists of three convolutional layers consisting of a 3x3 kernel with padding. A 2x2 max-pooling kernel is used after each convolution layer to reduce the dimentionality while retaining important information. The output of the last max-pooling layer is sent to two fully connected layers. Each of the layers uses the ReLU activation function, except the final layer, which uses sigmoid function."
   ]
  },
  {
   "cell_type": "code",
   "execution_count": 8,
   "id": "ee5f1162",
   "metadata": {},
   "outputs": [],
   "source": [
    "# Convolutional Neural Network architecture\n",
    "\n",
    "class CNN(nn.Module):\n",
    "    def __init__(self):\n",
    "        super(CNN, self).__init__()\n",
    "        self.conv1 = nn.Conv2d(3, 48, kernel_size=3, padding=1)\n",
    "        self.conv2 = nn.Conv2d(48, 64, kernel_size=3, padding=1)\n",
    "        self.conv3 = nn.Conv2d(64, 128, kernel_size=3, padding=1)\n",
    "        \n",
    "        self.fc1 = nn.Linear(128 * 32 * 32, 256)\n",
    "        self.fc2 = nn.Linear(256, 1)\n",
    "\n",
    "    def forward(self, x):\n",
    "        x = F.relu(self.conv1(x))\n",
    "        x = F.max_pool2d(x, 2)\n",
    "        x = F.relu(self.conv2(x))\n",
    "        x = F.max_pool2d(x, 2)\n",
    "        x = F.relu(self.conv3(x))\n",
    "        x = F.max_pool2d(x, 2)\n",
    "\n",
    "        x = x.view(x.size(0), -1)\n",
    "        x = F.relu(self.fc1(x))\n",
    "        x = torch.sigmoid(self.fc2(x)).squeeze(1)\n",
    "        return x\n",
    "\n",
    "cnn_model = CNN()\n",
    "cnn_model = cnn_model.to(device)"
   ]
  },
  {
   "cell_type": "markdown",
   "id": "4255c24d",
   "metadata": {},
   "source": [
    "## Training the model\n",
    "The model uses the Binary Cross Entropy loss function and the Adam optimizer, with a learning rate of 0.0002. The training and validation loop runs for five epochs, and the training and validation losses are tracked and graphed visually to see how it performs over all the epochs."
   ]
  },
  {
   "cell_type": "code",
   "execution_count": 9,
   "id": "a4d5e5fe",
   "metadata": {},
   "outputs": [],
   "source": [
    "# Initialize loss function and optimizers\n",
    "criterion = nn.BCELoss()\n",
    "optimizer = optim.Adam(cnn_model.parameters(), lr=0.0002)"
   ]
  },
  {
   "cell_type": "code",
   "execution_count": 10,
   "id": "91789e96",
   "metadata": {},
   "outputs": [
    {
     "name": "stdout",
     "output_type": "stream",
     "text": [
      "Epoch: [1/5], Training Loss: 0.6474530127915469 , Validation Loss: 0.575467179218928\n",
      "Epoch: [2/5], Training Loss: 0.6222896115346388 , Validation Loss: 0.5615423818429311\n",
      "Epoch: [3/5], Training Loss: 0.611074068329551 , Validation Loss: 0.5671188632647196\n",
      "Epoch: [4/5], Training Loss: 0.5786502063274384 , Validation Loss: 0.5407244066397349\n",
      "Epoch: [5/5], Training Loss: 0.6045887090943076 , Validation Loss: 0.5248966614405314\n"
     ]
    }
   ],
   "source": [
    "# Training and Validation Loop\n",
    "num_epochs = 5\n",
    "train_losses = []\n",
    "val_losses = []\n",
    "\n",
    "for epoch in range(num_epochs):\n",
    "    total_train_loss = 0\n",
    "    total_val_loss = 0\n",
    "\n",
    "    # Training\n",
    "    cnn_model.train()\n",
    "    for images, labels in train_dataloader:\n",
    "        images, labels = images.to(device), labels.to(device)\n",
    "        optimizer.zero_grad()\n",
    "        outputs = cnn_model(images)\n",
    "        loss = criterion(outputs, labels)\n",
    "        loss.backward()\n",
    "        optimizer.step()\n",
    "        total_train_loss += loss.item()\n",
    "    train_losses.append(total_train_loss / len(train_dataloader))\n",
    "\n",
    "    # Validation\n",
    "    cnn_model.eval()\n",
    "    with torch.no_grad():\n",
    "        for images, labels in val_dataloader:\n",
    "            images, labels = images.to(device), labels.to(device)\n",
    "            val_outputs = cnn_model(images)\n",
    "            val_loss = criterion(val_outputs, labels)\n",
    "            total_val_loss += val_loss.item()\n",
    "        val_losses.append(total_val_loss / len(val_dataloader))\n",
    "    \n",
    "    # Print Epochs and loss information\n",
    "    print(f'Epoch: [{epoch + 1}/{num_epochs}], Training Loss: {total_train_loss / len(train_dataloader)} , Validation Loss: {total_val_loss / len(val_dataloader)}')\n"
   ]
  },
  {
   "cell_type": "code",
   "execution_count": 11,
   "id": "0b94b8bc",
   "metadata": {},
   "outputs": [
    {
     "data": {
      "image/png": "[encoded data removed]",
      "text/plain": [
       "<Figure size 1000x600 with 1 Axes>"
      ]
     },
     "metadata": {},
     "output_type": "display_data"
    }
   ],
   "source": [
    "import matplotlib.pyplot as plt\n",
    "%matplotlib inline\n",
    "\n",
    "epochs = range(1, len(train_losses) + 1)\n",
    "\n",
    "plt.figure(figsize=(10, 6))\n",
    "plt.plot(epochs, train_losses, label='Training Loss', marker='o')\n",
    "plt.plot(epochs, val_losses, label='Validation Loss', marker='o')\n",
    "plt.xlabel('Epoch')\n",
    "plt.ylabel('Loss')\n",
    "plt.title('Training and Validation Losses Over Epochs')\n",
    "plt.legend()\n",
    "plt.grid(True)\n",
    "plt.show()"
   ]
  },
  {
   "cell_type": "code",
   "execution_count": 12,
   "id": "cb370d56",
   "metadata": {},
   "outputs": [],
   "source": [
    "# Testing the model\n",
    "# Load the testing data set\n",
    "\n",
    "test_dataset = RetinalImageDataset(testing_csvfile, testing_images_path, transform=val_and_testing_transforms)\n",
    "test_dataloader = DataLoader(test_dataset, batch_size=32, shuffle=False)\n"
   ]
  },
  {
   "cell_type": "code",
   "execution_count": 13,
   "id": "7ac54612",
   "metadata": {},
   "outputs": [
    {
     "name": "stdout",
     "output_type": "stream",
     "text": [
      "Predicted Probablity:0.4694424569606781, Predicted Label:0.0, Actual Label:1.0\n",
      "Predicted Probablity:0.7268581986427307, Predicted Label:1.0, Actual Label:1.0\n",
      "Predicted Probablity:0.8200249671936035, Predicted Label:1.0, Actual Label:1.0\n",
      "Predicted Probablity:0.6288398504257202, Predicted Label:1.0, Actual Label:1.0\n",
      "Predicted Probablity:0.48248523473739624, Predicted Label:0.0, Actual Label:1.0\n",
      "Predicted Probablity:0.7302005290985107, Predicted Label:1.0, Actual Label:1.0\n",
      "Predicted Probablity:0.8633617758750916, Predicted Label:1.0, Actual Label:1.0\n",
      "Predicted Probablity:0.8178542852401733, Predicted Label:1.0, Actual Label:1.0\n",
      "Predicted Probablity:0.8525545597076416, Predicted Label:1.0, Actual Label:1.0\n",
      "Predicted Probablity:0.6357084512710571, Predicted Label:1.0, Actual Label:1.0\n",
      "Predicted Probablity:0.6245272755622864, Predicted Label:1.0, Actual Label:1.0\n",
      "Predicted Probablity:0.8588058948516846, Predicted Label:1.0, Actual Label:1.0\n",
      "Predicted Probablity:0.8832235336303711, Predicted Label:1.0, Actual Label:1.0\n",
      "Predicted Probablity:0.9020512104034424, Predicted Label:1.0, Actual Label:1.0\n",
      "Predicted Probablity:0.8416629433631897, Predicted Label:1.0, Actual Label:1.0\n",
      "Predicted Probablity:0.8715313076972961, Predicted Label:1.0, Actual Label:1.0\n",
      "Predicted Probablity:0.5278796553611755, Predicted Label:1.0, Actual Label:1.0\n",
      "Predicted Probablity:0.785908579826355, Predicted Label:1.0, Actual Label:1.0\n",
      "Predicted Probablity:0.8174999356269836, Predicted Label:1.0, Actual Label:1.0\n",
      "Predicted Probablity:0.8236153721809387, Predicted Label:1.0, Actual Label:1.0\n",
      "Predicted Probablity:0.8928924798965454, Predicted Label:1.0, Actual Label:1.0\n",
      "Predicted Probablity:0.8879703283309937, Predicted Label:1.0, Actual Label:1.0\n",
      "Predicted Probablity:0.5894358158111572, Predicted Label:1.0, Actual Label:1.0\n",
      "Predicted Probablity:0.8518477082252502, Predicted Label:1.0, Actual Label:1.0\n",
      "Predicted Probablity:0.8410173654556274, Predicted Label:1.0, Actual Label:1.0\n",
      "Predicted Probablity:0.8628441691398621, Predicted Label:1.0, Actual Label:1.0\n",
      "Predicted Probablity:0.8149569630622864, Predicted Label:1.0, Actual Label:1.0\n",
      "Predicted Probablity:0.7101721167564392, Predicted Label:1.0, Actual Label:1.0\n",
      "Predicted Probablity:0.6457832455635071, Predicted Label:1.0, Actual Label:0.0\n",
      "Predicted Probablity:0.7226372957229614, Predicted Label:1.0, Actual Label:0.0\n",
      "Predicted Probablity:0.8100544810295105, Predicted Label:1.0, Actual Label:1.0\n",
      "Predicted Probablity:0.7972335815429688, Predicted Label:1.0, Actual Label:1.0\n",
      "Predicted Probablity:0.8100998997688293, Predicted Label:1.0, Actual Label:1.0\n",
      "Predicted Probablity:0.8180378675460815, Predicted Label:1.0, Actual Label:1.0\n",
      "Predicted Probablity:0.8147187232971191, Predicted Label:1.0, Actual Label:1.0\n",
      "Predicted Probablity:0.8014330863952637, Predicted Label:1.0, Actual Label:1.0\n",
      "Predicted Probablity:0.803038477897644, Predicted Label:1.0, Actual Label:0.0\n",
      "Predicted Probablity:0.8390269875526428, Predicted Label:1.0, Actual Label:0.0\n",
      "Predicted Probablity:0.8400242328643799, Predicted Label:1.0, Actual Label:0.0\n",
      "Predicted Probablity:0.8731963038444519, Predicted Label:1.0, Actual Label:1.0\n",
      "Predicted Probablity:0.6813612580299377, Predicted Label:1.0, Actual Label:0.0\n",
      "Predicted Probablity:0.8888574242591858, Predicted Label:1.0, Actual Label:1.0\n",
      "Predicted Probablity:0.7832481265068054, Predicted Label:1.0, Actual Label:0.0\n",
      "Predicted Probablity:0.7245169281959534, Predicted Label:1.0, Actual Label:0.0\n",
      "Predicted Probablity:0.8313586115837097, Predicted Label:1.0, Actual Label:0.0\n",
      "Predicted Probablity:0.8163504004478455, Predicted Label:1.0, Actual Label:1.0\n",
      "Predicted Probablity:0.7738640904426575, Predicted Label:1.0, Actual Label:0.0\n",
      "Predicted Probablity:0.6783457398414612, Predicted Label:1.0, Actual Label:1.0\n",
      "Predicted Probablity:0.5604766607284546, Predicted Label:1.0, Actual Label:1.0\n",
      "Predicted Probablity:0.8177067041397095, Predicted Label:1.0, Actual Label:0.0\n",
      "Predicted Probablity:0.6078943610191345, Predicted Label:1.0, Actual Label:1.0\n",
      "Predicted Probablity:0.8642977476119995, Predicted Label:1.0, Actual Label:0.0\n",
      "Predicted Probablity:0.8543256521224976, Predicted Label:1.0, Actual Label:1.0\n",
      "Predicted Probablity:0.7901349067687988, Predicted Label:1.0, Actual Label:0.0\n",
      "Predicted Probablity:0.8544845581054688, Predicted Label:1.0, Actual Label:0.0\n",
      "Predicted Probablity:0.7111473083496094, Predicted Label:1.0, Actual Label:0.0\n",
      "Predicted Probablity:0.7951525449752808, Predicted Label:1.0, Actual Label:1.0\n",
      "Predicted Probablity:0.803949773311615, Predicted Label:1.0, Actual Label:0.0\n",
      "Predicted Probablity:0.8698352575302124, Predicted Label:1.0, Actual Label:1.0\n",
      "Predicted Probablity:0.7463598251342773, Predicted Label:1.0, Actual Label:1.0\n",
      "Predicted Probablity:0.8622109293937683, Predicted Label:1.0, Actual Label:1.0\n",
      "Predicted Probablity:0.8612094521522522, Predicted Label:1.0, Actual Label:1.0\n",
      "Predicted Probablity:0.6081283092498779, Predicted Label:1.0, Actual Label:1.0\n",
      "Predicted Probablity:0.8536867499351501, Predicted Label:1.0, Actual Label:1.0\n",
      "Predicted Probablity:0.8765110969543457, Predicted Label:1.0, Actual Label:1.0\n",
      "Predicted Probablity:0.7138789892196655, Predicted Label:1.0, Actual Label:1.0\n",
      "Predicted Probablity:0.8808663487434387, Predicted Label:1.0, Actual Label:1.0\n",
      "Predicted Probablity:0.8518676161766052, Predicted Label:1.0, Actual Label:0.0\n",
      "Predicted Probablity:0.8266367316246033, Predicted Label:1.0, Actual Label:0.0\n",
      "Predicted Probablity:0.6550541520118713, Predicted Label:1.0, Actual Label:0.0\n",
      "Predicted Probablity:0.5729697346687317, Predicted Label:1.0, Actual Label:0.0\n",
      "Predicted Probablity:0.8912801146507263, Predicted Label:1.0, Actual Label:1.0\n",
      "Predicted Probablity:0.8214693069458008, Predicted Label:1.0, Actual Label:1.0\n",
      "Predicted Probablity:0.7953363656997681, Predicted Label:1.0, Actual Label:1.0\n",
      "Predicted Probablity:0.8318750262260437, Predicted Label:1.0, Actual Label:0.0\n",
      "Predicted Probablity:0.6492264866828918, Predicted Label:1.0, Actual Label:1.0\n",
      "Predicted Probablity:0.7228480577468872, Predicted Label:1.0, Actual Label:0.0\n",
      "Predicted Probablity:0.8407403826713562, Predicted Label:1.0, Actual Label:0.0\n",
      "Predicted Probablity:0.8192737102508545, Predicted Label:1.0, Actual Label:1.0\n",
      "Predicted Probablity:0.7055149078369141, Predicted Label:1.0, Actual Label:0.0\n",
      "Predicted Probablity:0.9005787372589111, Predicted Label:1.0, Actual Label:1.0\n",
      "Predicted Probablity:0.8364796042442322, Predicted Label:1.0, Actual Label:1.0\n",
      "Predicted Probablity:0.9007962942123413, Predicted Label:1.0, Actual Label:1.0\n",
      "Predicted Probablity:0.5907441973686218, Predicted Label:1.0, Actual Label:1.0\n",
      "Predicted Probablity:0.8582870364189148, Predicted Label:1.0, Actual Label:1.0\n",
      "Predicted Probablity:0.8409519195556641, Predicted Label:1.0, Actual Label:1.0\n",
      "Predicted Probablity:0.8709707856178284, Predicted Label:1.0, Actual Label:1.0\n",
      "Predicted Probablity:0.807641863822937, Predicted Label:1.0, Actual Label:1.0\n",
      "Predicted Probablity:0.7993192076683044, Predicted Label:1.0, Actual Label:1.0\n",
      "Predicted Probablity:0.6586933732032776, Predicted Label:1.0, Actual Label:0.0\n",
      "Predicted Probablity:0.8508780002593994, Predicted Label:1.0, Actual Label:1.0\n",
      "Predicted Probablity:0.4709123373031616, Predicted Label:0.0, Actual Label:0.0\n",
      "Predicted Probablity:0.7988229393959045, Predicted Label:1.0, Actual Label:0.0\n",
      "Predicted Probablity:0.8099679350852966, Predicted Label:1.0, Actual Label:0.0\n",
      "Predicted Probablity:0.7108167409896851, Predicted Label:1.0, Actual Label:0.0\n",
      "Predicted Probablity:0.8333101868629456, Predicted Label:1.0, Actual Label:0.0\n",
      "Predicted Probablity:0.7387403249740601, Predicted Label:1.0, Actual Label:0.0\n",
      "Predicted Probablity:0.44720327854156494, Predicted Label:0.0, Actual Label:0.0\n",
      "Predicted Probablity:0.7716740965843201, Predicted Label:1.0, Actual Label:0.0\n",
      "Predicted Probablity:0.8323187828063965, Predicted Label:1.0, Actual Label:1.0\n",
      "Predicted Probablity:0.8376996517181396, Predicted Label:1.0, Actual Label:1.0\n",
      "Predicted Probablity:0.8985398411750793, Predicted Label:1.0, Actual Label:1.0\n",
      "Predicted Probablity:0.8329601883888245, Predicted Label:1.0, Actual Label:0.0\n"
     ]
    }
   ],
   "source": [
    "test_pred_probs = []\n",
    "test_pred_labels = []\n",
    "test_true_labels = []\n",
    "\n",
    "with torch.no_grad():\n",
    "    for images, labels in test_dataloader:\n",
    "        images, labels = images.to(device), labels.to(device)\n",
    "        outputs = cnn_model(images)\n",
    "\n",
    "        test_pred_probs.extend(outputs.cpu().numpy())\n",
    "\n",
    "        pred_labels = torch.round(outputs)\n",
    "        test_pred_labels.extend(pred_labels.cpu().numpy())\n",
    "\n",
    "        test_true_labels.extend(labels.cpu().numpy())\n",
    "\n",
    "test_pred_probs = np.array(test_pred_probs)\n",
    "test_pred_labels = np.array(test_pred_labels)\n",
    "test_true_labels = np.array(test_true_labels)\n",
    "\n",
    "for i in range(103):\n",
    "    print(f'Predicted Probablity:{test_pred_probs[i]}, Predicted Label:{test_pred_labels[i]}, Actual Label:{test_true_labels[i]}')"
   ]
  },
  {
   "cell_type": "code",
   "execution_count": 14,
   "id": "153bd929",
   "metadata": {},
   "outputs": [
    {
     "name": "stdout",
     "output_type": "stream",
     "text": [
      "                           precision    recall  f1-score   support\n",
      "\n",
      "Does not have retinopathy       0.50      0.06      0.11        34\n",
      "          Has retinopathy       0.68      0.97      0.80        69\n",
      "\n",
      "                 accuracy                           0.67       103\n",
      "                macro avg       0.59      0.51      0.45       103\n",
      "             weighted avg       0.62      0.67      0.57       103\n",
      "\n"
     ]
    }
   ],
   "source": [
    "from sklearn.metrics import classification_report\n",
    "\n",
    "classes = ['Does not have retinopathy', 'Has retinopathy']\n",
    "\n",
    "report = classification_report(test_true_labels, test_pred_labels, target_names=classes)\n",
    "\n",
    "print(report)"
   ]
  },
  {
   "cell_type": "markdown",
   "id": "c357e7a6",
   "metadata": {},
   "source": [
    "## Results\n",
    "We see that based on our CNN model, the model has an accuracy score of 59%. The model performs quite well when it comes to detecting if an image indicates it has retinopathy. However, it struggles to accurately detect images that indicates it did not have retinopathy. Some ways to combat this may be to use a much larger dataset, preprocessing the data further to improve variance and remove noise, or modifying the model with different number of hidden layers and neurons. "
   ]
  },
  {
   "cell_type": "markdown",
   "id": "a496fdf2",
   "metadata": {},
   "source": [
    "## VGG-16 Convolutional Neural Network Model\n",
    "VGG-16 is a Convolutional Neural Network Model that is proposed by Karen Simonyan and Andrew Zisserman from the Visual Geometry Group at University of Oxford. It is designed for training large scale models for image classification tasks. While it is best used for larger datasets, I wanted to try to implement it to see how it performs with this IDRiD dataset.\n",
    "\n",
    "## VGG-16 Architecture and implementation\n",
    "VGG-16 consists of a total of 16 layers, of which there are 13 convolutional layers, and 3 fully connected layers. The convolutional layers have a kernel size of 3x3 and a padding of 1. There are 2 sets of convolutional layers having 64 output channels, 2 sets with 128 output channels, 3 sets with 256 output channels, and 6 sets with 512 output channels. \n",
    "\n",
    "There are also 5 max-pooling layers with a kernel size of 2x2, and a stride of 2. Each of these pooling layers come after each of the sets, and one of them in the middle of the sets with 512 output channels.\n",
    "\n",
    "The output of the final pooling layer is flattened and sent to three fully connected linear layers. Two of them have an output size of 4096. For this specific binary classification task, the final layer has an output of 1.\n",
    "\n",
    "All of these channels are given the ReLU activation function, except the last one, which uses the sigmoid function."
   ]
  },
  {
   "cell_type": "code",
   "execution_count": 22,
   "id": "287c0a96",
   "metadata": {},
   "outputs": [],
   "source": [
    "# Training with a CNN model based on VGG-16\n",
    "\n",
    "class VGG_16_CNN(nn.Module):\n",
    "    def __init__(self):\n",
    "        super(VGG_16_CNN, self).__init__()\n",
    "        self.conv1 = nn.Conv2d(3, 64, kernel_size=3, padding=1)\n",
    "        self.bn1 = nn.BatchNorm2d(64)\n",
    "        self.conv2 = nn.Conv2d(64, 64, kernel_size=3, padding=1)\n",
    "        self.bn2 = nn.BatchNorm2d(64)\n",
    "\n",
    "        self.conv3 = nn.Conv2d(64, 128, kernel_size=3, padding=1)\n",
    "        self.bn3 = nn.BatchNorm2d(128)\n",
    "        self.conv4 = nn.Conv2d(128, 128, kernel_size=3, padding=1)\n",
    "        self.bn4 = nn.BatchNorm2d(128)\n",
    "\n",
    "        self.conv5 = nn.Conv2d(128, 256, kernel_size=3, padding=1)\n",
    "        self.bn5 = nn.BatchNorm2d(256)\n",
    "        self.conv6 = nn.Conv2d(256, 256, kernel_size=3, padding=1)\n",
    "        self.bn6 = nn.BatchNorm2d(256)\n",
    "        self.conv7 = nn.Conv2d(256, 256, kernel_size=3, padding=1)\n",
    "        self.bn7 = nn.BatchNorm2d(256)\n",
    "\n",
    "        self.conv8 = nn.Conv2d(256, 512, kernel_size=3, padding=1)\n",
    "        self.bn8 = nn.BatchNorm2d(512)\n",
    "        self.conv9 = nn.Conv2d(512, 512, kernel_size=3, padding=1)\n",
    "        self.bn9 = nn.BatchNorm2d(512)\n",
    "        self.conv10 = nn.Conv2d(512, 512, kernel_size=3, padding=1)\n",
    "        self.bn10 = nn.BatchNorm2d(512)\n",
    "        \n",
    "        self.conv11 = nn.Conv2d(512, 512, kernel_size=3, padding=1)\n",
    "        self.bn11 = nn.BatchNorm2d(512)\n",
    "        self.conv12 = nn.Conv2d(512, 512, kernel_size=3, padding=1)\n",
    "        self.bn12 = nn.BatchNorm2d(512)\n",
    "        self.conv13 = nn.Conv2d(512, 512, kernel_size=3, padding=1)\n",
    "        self.bn13 = nn.BatchNorm2d(512)\n",
    "        \n",
    "        self.fc1 = nn.Linear(512 * 8 * 8, 4096)\n",
    "        self.bn_fc1 = nn.BatchNorm1d(4096)\n",
    "        self.fc2 = nn.Linear(4096, 4096)\n",
    "        self.bn_fc2 = nn.BatchNorm1d(4096)\n",
    "        self.fc3 = nn.Linear(4096, 1)\n",
    "\n",
    "    def forward(self, x):\n",
    "        x = F.relu(self.bn1(self.conv1(x)))\n",
    "        x = F.relu(self.bn2(self.conv2(x)))\n",
    "        x = F.max_pool2d(x, 2)\n",
    "        x = F.relu(self.bn3(self.conv3(x)))\n",
    "        x = F.relu(self.bn4(self.conv4(x)))\n",
    "        x = F.max_pool2d(x, 2)\n",
    "        x = F.relu(self.bn5(self.conv5(x)))\n",
    "        x = F.relu(self.bn6(self.conv6(x)))\n",
    "        x = F.relu(self.bn7(self.conv7(x)))\n",
    "        x = F.max_pool2d(x, 2)\n",
    "        x = F.relu(self.bn8(self.conv8(x)))\n",
    "        x = F.relu(self.bn9(self.conv9(x)))\n",
    "        x = F.relu(self.bn10(self.conv10(x)))\n",
    "        x = F.max_pool2d(x, 2)\n",
    "        x = F.relu(self.bn11(self.conv11(x)))\n",
    "        x = F.relu(self.bn12(self.conv12(x)))\n",
    "        x = F.relu(self.bn13(self.conv13(x)))\n",
    "        x = F.max_pool2d(x, 2)\n",
    "\n",
    "        x = x.view(x.size(0), -1)\n",
    "\n",
    "        x = F.relu(self.bn_fc1(self.fc1(x)))\n",
    "        x = F.relu(self.bn_fc2(self.fc2(x)))\n",
    "        x = torch.sigmoid(self.fc3(x)).squeeze(1)\n",
    "        return x\n",
    "\n",
    "vgg_16_cnn_model = VGG_16_CNN()\n",
    "vgg_16_cnn_model = vgg_16_cnn_model.to(device)"
   ]
  },
  {
   "cell_type": "code",
   "execution_count": null,
   "id": "99639555",
   "metadata": {},
   "outputs": [
    {
     "name": "stdout",
     "output_type": "stream",
     "text": [
      "3\n"
     ]
    }
   ],
   "source": [
    "# Initialize loss function and optimizers\n",
    "criterion = nn.BCELoss()\n",
    "optimizer = optim.Adam(vgg_16_cnn_model.parameters(), lr=0.0025, weight_decay=1e-4)\n"
   ]
  },
  {
   "cell_type": "code",
   "execution_count": 24,
   "id": "317e67da",
   "metadata": {},
   "outputs": [
    {
     "name": "stdout",
     "output_type": "stream",
     "text": [
      "Epoch: [1/6], Training Loss: 5.446965277194977 , Validation Loss: 28.472222010294598\n",
      "Epoch: [2/6], Training Loss: 2.965788169340654 , Validation Loss: 28.472222010294598\n",
      "Epoch: [3/6], Training Loss: 2.6577278646555813 , Validation Loss: 2.733336846033732\n",
      "Epoch: [4/6], Training Loss: 1.4967479380694302 , Validation Loss: 0.6114498376846313\n",
      "Epoch: [5/6], Training Loss: 0.9052477370608937 , Validation Loss: 0.6001193324724833\n",
      "Epoch: [6/6], Training Loss: 1.53104229406877 , Validation Loss: 0.6000682314236959\n"
     ]
    }
   ],
   "source": [
    "# Training and Validation Loop\n",
    "num_epochs = 6\n",
    "train_losses = []\n",
    "val_losses = []\n",
    "\n",
    "for epoch in range(num_epochs):\n",
    "    total_train_loss = 0\n",
    "    total_val_loss = 0\n",
    "\n",
    "    # Training\n",
    "    vgg_16_cnn_model.train()\n",
    "    for images, labels in train_dataloader:\n",
    "        images, labels = images.to(device), labels.to(device)\n",
    "        optimizer.zero_grad()\n",
    "        outputs = vgg_16_cnn_model(images)\n",
    "        loss = criterion(outputs, labels)\n",
    "        loss.backward()\n",
    "        optimizer.step()\n",
    "        total_train_loss += loss.item()\n",
    "    train_losses.append(total_train_loss / len(train_dataloader))\n",
    "\n",
    "    # Validation\n",
    "    vgg_16_cnn_model.eval()\n",
    "    with torch.no_grad():\n",
    "        for images, labels in val_dataloader:\n",
    "            images, labels = images.to(device), labels.to(device)\n",
    "            val_outputs = vgg_16_cnn_model(images)\n",
    "            val_loss = criterion(val_outputs, labels)\n",
    "            total_val_loss += val_loss.item()\n",
    "        val_losses.append(total_val_loss / len(val_dataloader))\n",
    "    \n",
    "    # Print Epochs and loss information\n",
    "    print(f'Epoch: [{epoch + 1}/{num_epochs}], Training Loss: {total_train_loss / len(train_dataloader)} , Validation Loss: {total_val_loss / len(val_dataloader)}')\n"
   ]
  },
  {
   "cell_type": "code",
   "execution_count": 25,
   "id": "9f1cbdce",
   "metadata": {},
   "outputs": [
    {
     "data": {
      "image/png": "[encoded data removed]",
      "text/plain": [
       "<Figure size 1000x600 with 1 Axes>"
      ]
     },
     "metadata": {},
     "output_type": "display_data"
    }
   ],
   "source": [
    "import matplotlib.pyplot as plt\n",
    "%matplotlib inline\n",
    "\n",
    "epochs = range(1, len(train_losses) + 1)\n",
    "\n",
    "plt.figure(figsize=(10, 6))\n",
    "plt.plot(epochs, train_losses, label='Training Loss', marker='o')\n",
    "plt.plot(epochs, val_losses, label='Validation Loss', marker='o')\n",
    "plt.xlabel('Epoch')\n",
    "plt.ylabel('Loss')\n",
    "plt.title('Training and Validation Losses Over Epochs (VGG-16)')\n",
    "plt.legend()\n",
    "plt.grid(True)\n",
    "plt.show()"
   ]
  },
  {
   "cell_type": "code",
   "execution_count": 26,
   "id": "2961cbf9",
   "metadata": {},
   "outputs": [],
   "source": [
    "# Testing the model\n",
    "# Load the testing data set\n",
    "\n",
    "test_dataset = RetinalImageDataset(testing_csvfile, testing_images_path, transform=val_and_testing_transforms)\n",
    "test_dataloader = DataLoader(test_dataset, batch_size=32, shuffle=False)"
   ]
  },
  {
   "cell_type": "code",
   "execution_count": 27,
   "id": "3f41b1e3",
   "metadata": {},
   "outputs": [
    {
     "name": "stdout",
     "output_type": "stream",
     "text": [
      "Predicted Probablity:0.6778742671012878, Predicted Label:1.0, Actual Label:1.0\n",
      "Predicted Probablity:0.6786175966262817, Predicted Label:1.0, Actual Label:1.0\n",
      "Predicted Probablity:0.6788851618766785, Predicted Label:1.0, Actual Label:1.0\n",
      "Predicted Probablity:0.6764877438545227, Predicted Label:1.0, Actual Label:1.0\n",
      "Predicted Probablity:0.6765541434288025, Predicted Label:1.0, Actual Label:1.0\n",
      "Predicted Probablity:0.677167534828186, Predicted Label:1.0, Actual Label:1.0\n",
      "Predicted Probablity:0.6783359050750732, Predicted Label:1.0, Actual Label:1.0\n",
      "Predicted Probablity:0.6761113405227661, Predicted Label:1.0, Actual Label:1.0\n",
      "Predicted Probablity:0.6787475347518921, Predicted Label:1.0, Actual Label:1.0\n",
      "Predicted Probablity:0.6764748692512512, Predicted Label:1.0, Actual Label:1.0\n",
      "Predicted Probablity:0.6786090135574341, Predicted Label:1.0, Actual Label:1.0\n",
      "Predicted Probablity:0.6771881580352783, Predicted Label:1.0, Actual Label:1.0\n",
      "Predicted Probablity:0.677900493144989, Predicted Label:1.0, Actual Label:1.0\n",
      "Predicted Probablity:0.679020345211029, Predicted Label:1.0, Actual Label:1.0\n",
      "Predicted Probablity:0.6777528524398804, Predicted Label:1.0, Actual Label:1.0\n",
      "Predicted Probablity:0.6776869893074036, Predicted Label:1.0, Actual Label:1.0\n",
      "Predicted Probablity:0.6792817711830139, Predicted Label:1.0, Actual Label:1.0\n",
      "Predicted Probablity:0.6768897771835327, Predicted Label:1.0, Actual Label:1.0\n",
      "Predicted Probablity:0.6768518686294556, Predicted Label:1.0, Actual Label:1.0\n",
      "Predicted Probablity:0.6762901544570923, Predicted Label:1.0, Actual Label:1.0\n",
      "Predicted Probablity:0.6769471764564514, Predicted Label:1.0, Actual Label:1.0\n",
      "Predicted Probablity:0.6776148676872253, Predicted Label:1.0, Actual Label:1.0\n",
      "Predicted Probablity:0.6773036122322083, Predicted Label:1.0, Actual Label:1.0\n",
      "Predicted Probablity:0.6792932152748108, Predicted Label:1.0, Actual Label:1.0\n",
      "Predicted Probablity:0.6760388612747192, Predicted Label:1.0, Actual Label:1.0\n",
      "Predicted Probablity:0.6764279007911682, Predicted Label:1.0, Actual Label:1.0\n",
      "Predicted Probablity:0.6787886023521423, Predicted Label:1.0, Actual Label:1.0\n",
      "Predicted Probablity:0.6750242114067078, Predicted Label:1.0, Actual Label:1.0\n",
      "Predicted Probablity:0.6814232468605042, Predicted Label:1.0, Actual Label:0.0\n",
      "Predicted Probablity:0.6764060854911804, Predicted Label:1.0, Actual Label:0.0\n",
      "Predicted Probablity:0.6776250600814819, Predicted Label:1.0, Actual Label:1.0\n",
      "Predicted Probablity:0.6770970821380615, Predicted Label:1.0, Actual Label:1.0\n",
      "Predicted Probablity:0.6768163442611694, Predicted Label:1.0, Actual Label:1.0\n",
      "Predicted Probablity:0.6776003241539001, Predicted Label:1.0, Actual Label:1.0\n",
      "Predicted Probablity:0.6758704781532288, Predicted Label:1.0, Actual Label:1.0\n",
      "Predicted Probablity:0.6772904396057129, Predicted Label:1.0, Actual Label:1.0\n",
      "Predicted Probablity:0.6769208908081055, Predicted Label:1.0, Actual Label:0.0\n",
      "Predicted Probablity:0.6783245205879211, Predicted Label:1.0, Actual Label:0.0\n",
      "Predicted Probablity:0.6765377521514893, Predicted Label:1.0, Actual Label:0.0\n",
      "Predicted Probablity:0.6757634878158569, Predicted Label:1.0, Actual Label:1.0\n",
      "Predicted Probablity:0.6795079112052917, Predicted Label:1.0, Actual Label:0.0\n",
      "Predicted Probablity:0.676636278629303, Predicted Label:1.0, Actual Label:1.0\n",
      "Predicted Probablity:0.6745085716247559, Predicted Label:1.0, Actual Label:0.0\n",
      "Predicted Probablity:0.6766701340675354, Predicted Label:1.0, Actual Label:0.0\n",
      "Predicted Probablity:0.6763786673545837, Predicted Label:1.0, Actual Label:0.0\n",
      "Predicted Probablity:0.678411066532135, Predicted Label:1.0, Actual Label:1.0\n",
      "Predicted Probablity:0.677294909954071, Predicted Label:1.0, Actual Label:0.0\n",
      "Predicted Probablity:0.6808727979660034, Predicted Label:1.0, Actual Label:1.0\n",
      "Predicted Probablity:0.6784019470214844, Predicted Label:1.0, Actual Label:1.0\n",
      "Predicted Probablity:0.6768383979797363, Predicted Label:1.0, Actual Label:0.0\n",
      "Predicted Probablity:0.6786660552024841, Predicted Label:1.0, Actual Label:1.0\n",
      "Predicted Probablity:0.6758572459220886, Predicted Label:1.0, Actual Label:0.0\n",
      "Predicted Probablity:0.6772786974906921, Predicted Label:1.0, Actual Label:1.0\n",
      "Predicted Probablity:0.6769793629646301, Predicted Label:1.0, Actual Label:0.0\n",
      "Predicted Probablity:0.6778016686439514, Predicted Label:1.0, Actual Label:0.0\n",
      "Predicted Probablity:0.6750090718269348, Predicted Label:1.0, Actual Label:0.0\n",
      "Predicted Probablity:0.6785520911216736, Predicted Label:1.0, Actual Label:1.0\n",
      "Predicted Probablity:0.676919162273407, Predicted Label:1.0, Actual Label:0.0\n",
      "Predicted Probablity:0.6778429746627808, Predicted Label:1.0, Actual Label:1.0\n",
      "Predicted Probablity:0.6757597327232361, Predicted Label:1.0, Actual Label:1.0\n",
      "Predicted Probablity:0.6772854328155518, Predicted Label:1.0, Actual Label:1.0\n",
      "Predicted Probablity:0.6769129633903503, Predicted Label:1.0, Actual Label:1.0\n",
      "Predicted Probablity:0.6757847666740417, Predicted Label:1.0, Actual Label:1.0\n",
      "Predicted Probablity:0.6763014793395996, Predicted Label:1.0, Actual Label:1.0\n",
      "Predicted Probablity:0.6753028631210327, Predicted Label:1.0, Actual Label:1.0\n",
      "Predicted Probablity:0.6789464950561523, Predicted Label:1.0, Actual Label:1.0\n",
      "Predicted Probablity:0.6767899990081787, Predicted Label:1.0, Actual Label:1.0\n",
      "Predicted Probablity:0.6768744587898254, Predicted Label:1.0, Actual Label:0.0\n",
      "Predicted Probablity:0.6787171959877014, Predicted Label:1.0, Actual Label:0.0\n",
      "Predicted Probablity:0.6760081052780151, Predicted Label:1.0, Actual Label:0.0\n",
      "Predicted Probablity:0.6775718927383423, Predicted Label:1.0, Actual Label:0.0\n",
      "Predicted Probablity:0.6760896444320679, Predicted Label:1.0, Actual Label:1.0\n",
      "Predicted Probablity:0.6787239909172058, Predicted Label:1.0, Actual Label:1.0\n",
      "Predicted Probablity:0.6781942844390869, Predicted Label:1.0, Actual Label:1.0\n",
      "Predicted Probablity:0.6791768074035645, Predicted Label:1.0, Actual Label:0.0\n",
      "Predicted Probablity:0.6792373061180115, Predicted Label:1.0, Actual Label:1.0\n",
      "Predicted Probablity:0.6775547862052917, Predicted Label:1.0, Actual Label:0.0\n",
      "Predicted Probablity:0.6780499815940857, Predicted Label:1.0, Actual Label:0.0\n",
      "Predicted Probablity:0.6777257323265076, Predicted Label:1.0, Actual Label:1.0\n",
      "Predicted Probablity:0.6771844625473022, Predicted Label:1.0, Actual Label:0.0\n",
      "Predicted Probablity:0.6786425113677979, Predicted Label:1.0, Actual Label:1.0\n",
      "Predicted Probablity:0.6784856915473938, Predicted Label:1.0, Actual Label:1.0\n",
      "Predicted Probablity:0.6774484515190125, Predicted Label:1.0, Actual Label:1.0\n",
      "Predicted Probablity:0.6779672503471375, Predicted Label:1.0, Actual Label:1.0\n",
      "Predicted Probablity:0.6772392988204956, Predicted Label:1.0, Actual Label:1.0\n",
      "Predicted Probablity:0.677827000617981, Predicted Label:1.0, Actual Label:1.0\n",
      "Predicted Probablity:0.6768832206726074, Predicted Label:1.0, Actual Label:1.0\n",
      "Predicted Probablity:0.6763355731964111, Predicted Label:1.0, Actual Label:1.0\n",
      "Predicted Probablity:0.6772670745849609, Predicted Label:1.0, Actual Label:1.0\n",
      "Predicted Probablity:0.6778884530067444, Predicted Label:1.0, Actual Label:0.0\n",
      "Predicted Probablity:0.678027868270874, Predicted Label:1.0, Actual Label:1.0\n",
      "Predicted Probablity:0.6775336861610413, Predicted Label:1.0, Actual Label:0.0\n",
      "Predicted Probablity:0.6789556741714478, Predicted Label:1.0, Actual Label:0.0\n",
      "Predicted Probablity:0.6773552894592285, Predicted Label:1.0, Actual Label:0.0\n",
      "Predicted Probablity:0.6771407723426819, Predicted Label:1.0, Actual Label:0.0\n",
      "Predicted Probablity:0.677889347076416, Predicted Label:1.0, Actual Label:0.0\n",
      "Predicted Probablity:0.677622377872467, Predicted Label:1.0, Actual Label:0.0\n",
      "Predicted Probablity:0.6782069802284241, Predicted Label:1.0, Actual Label:0.0\n",
      "Predicted Probablity:0.675814688205719, Predicted Label:1.0, Actual Label:0.0\n",
      "Predicted Probablity:0.6783220171928406, Predicted Label:1.0, Actual Label:1.0\n",
      "Predicted Probablity:0.6773439049720764, Predicted Label:1.0, Actual Label:1.0\n",
      "Predicted Probablity:0.67467200756073, Predicted Label:1.0, Actual Label:1.0\n",
      "Predicted Probablity:0.6763319373130798, Predicted Label:1.0, Actual Label:0.0\n"
     ]
    }
   ],
   "source": [
    "test_pred_probs = []\n",
    "test_pred_labels = []\n",
    "test_true_labels = []\n",
    "\n",
    "with torch.no_grad():\n",
    "    for images, labels in test_dataloader:\n",
    "        images, labels = images.to(device), labels.to(device)\n",
    "        outputs = vgg_16_cnn_model(images)\n",
    "\n",
    "        test_pred_probs.extend(outputs.cpu().numpy())\n",
    "\n",
    "        pred_labels = torch.round(outputs)\n",
    "        test_pred_labels.extend(pred_labels.cpu().numpy())\n",
    "\n",
    "        test_true_labels.extend(labels.cpu().numpy())\n",
    "\n",
    "test_pred_probs = np.array(test_pred_probs)\n",
    "test_pred_labels = np.array(test_pred_labels)\n",
    "test_true_labels = np.array(test_true_labels)\n",
    "\n",
    "for i in range(103):\n",
    "    print(f'Predicted Probablity:{test_pred_probs[i]}, Predicted Label:{test_pred_labels[i]}, Actual Label:{test_true_labels[i]}')"
   ]
  },
  {
   "cell_type": "code",
   "execution_count": 28,
   "id": "47185c52",
   "metadata": {},
   "outputs": [
    {
     "name": "stdout",
     "output_type": "stream",
     "text": [
      "                           precision    recall  f1-score   support\n",
      "\n",
      "Does not have retinopathy       0.00      0.00      0.00        34\n",
      "          Has retinopathy       0.67      1.00      0.80        69\n",
      "\n",
      "                 accuracy                           0.67       103\n",
      "                macro avg       0.33      0.50      0.40       103\n",
      "             weighted avg       0.45      0.67      0.54       103\n",
      "\n"
     ]
    },
    {
     "name": "stderr",
     "output_type": "stream",
     "text": [
      "d:\\Users\\Ahmed\\anaconda3\\Lib\\site-packages\\sklearn\\metrics\\_classification.py:1531: UndefinedMetricWarning: Precision is ill-defined and being set to 0.0 in labels with no predicted samples. Use `zero_division` parameter to control this behavior.\n",
      "  _warn_prf(average, modifier, f\"{metric.capitalize()} is\", len(result))\n",
      "d:\\Users\\Ahmed\\anaconda3\\Lib\\site-packages\\sklearn\\metrics\\_classification.py:1531: UndefinedMetricWarning: Precision is ill-defined and being set to 0.0 in labels with no predicted samples. Use `zero_division` parameter to control this behavior.\n",
      "  _warn_prf(average, modifier, f\"{metric.capitalize()} is\", len(result))\n",
      "d:\\Users\\Ahmed\\anaconda3\\Lib\\site-packages\\sklearn\\metrics\\_classification.py:1531: UndefinedMetricWarning: Precision is ill-defined and being set to 0.0 in labels with no predicted samples. Use `zero_division` parameter to control this behavior.\n",
      "  _warn_prf(average, modifier, f\"{metric.capitalize()} is\", len(result))\n"
     ]
    }
   ],
   "source": [
    "from sklearn.metrics import classification_report\n",
    "\n",
    "classes = ['Does not have retinopathy', 'Has retinopathy']\n",
    "\n",
    "report = classification_report(test_true_labels, test_pred_labels, target_names=classes)\n",
    "\n",
    "print(report)"
   ]
  },
  {
   "cell_type": "markdown",
   "id": "d4733476",
   "metadata": {},
   "source": [
    "## Results\n",
    "This model has an accuracy score of 66%. It is good at detecting retinas without retinopathy. It tended to rate pretty much all images as having retinopathy, as the predicted output values were higher than 0.5. Overall, the accuracy is not much better than the accuracy from the first CNN model, indicating that adding more hidden layers did not improve the accuracy. Such complex models can suffer from the Vanishing Gradient problem, which is why a Batch Normalization layer is applied after every layer. Other ways to improve the model include using a scheduler to lower the learning rate during the training process, and also utilizing a larger dataset so that the model could train better. "
   ]
  },
  {
   "cell_type": "markdown",
   "id": "7eacf579",
   "metadata": {},
   "source": [
    "# Conclusion\n",
    "\n",
    "Overall, both the regular CNN model and the VGG-16 based model performed somewhat similarly. Despite the VGG-16 model being quite complex, it did not perform much better. It also took a much longer time to train than the original model. The original model took about 5 to 6 minutes to train for 5 epochs, while the VGG-16 model took more than 10 minutes to train for 3 epochs. Perhaps the model could improve if it ran for more epochs, but this would take a long time. Furthermore, reducing the complexity can help the model to not overfit and improve the outputs.\n",
    "\n",
    "All in all, though these two models were able to detect whether some of the image indicated retinopathy, they would not be ideal for an actual doctor to diagnose retinopathy. Given this dataset, a fine-tuned, pre-trained model like a vision transformer, that has been trained on a much larger dataset, might be best suited to analyze retinal images for diabetic retinopathy. "
   ]
  },
  {
   "cell_type": "code",
   "execution_count": null,
   "id": "32ce0c1f",
   "metadata": {},
   "outputs": [],
   "source": []
  }
 ],
 "metadata": {
  "kernelspec": {
   "display_name": "base",
   "language": "python",
   "name": "python3"
  },
  "language_info": {
   "codemirror_mode": {
    "name": "ipython",
    "version": 3
   },
   "file_extension": ".py",
   "mimetype": "text/x-python",
   "name": "python",
   "nbconvert_exporter": "python",
   "pygments_lexer": "ipython3",
   "version": "3.12.7"
  }
 },
 "nbformat": 4,
 "nbformat_minor": 5
}
